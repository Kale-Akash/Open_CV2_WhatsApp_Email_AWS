{
 "cells": [
  {
   "cell_type": "code",
   "execution_count": 1,
   "id": "187dde0f",
   "metadata": {},
   "outputs": [],
   "source": [
    "import cv2 \n",
    "import smtplib\n",
    "from pywhatkit import sendwhatmsg\n",
    "from getpass import getpass\n",
    "from subprocess import getstatusoutput"
   ]
  },
  {
   "cell_type": "code",
   "execution_count": null,
   "id": "fc20861b",
   "metadata": {},
   "outputs": [],
   "source": [
    "# USER DATA\n",
    "e_mail =input(\"Enter your E-mail: \")\n",
    "passwd =getpass(\"Enter PAssword: \")\n",
    "f_e_mail =input(\"Enter Friend E-mail: \")\n",
    "num =\"+91\" + input(\"Enter your phone number: \")"
   ]
  },
  {
   "cell_type": "markdown",
   "id": "b5e627d7",
   "metadata": {},
   "source": [
    " Sending E-mail and WhatsSApp Message"
   ]
  },
  {
   "cell_type": "code",
   "execution_count": 7,
   "id": "83cf7a51",
   "metadata": {},
   "outputs": [
    {
     "name": "stdout",
     "output_type": "stream",
     "text": [
      "In 14 seconds web.whatsapp.com will open and after 20 seconds message will be delivered\n"
     ]
    }
   ],
   "source": [
    "cap = cv2.VideoCapture(0)\n",
    "model = cv2.CascadeClassifier(\"haarcascade_frontalface_default.xml\")\n",
    "send_email_message()\n",
    "send_email_message()\n",
    "\n",
    "i = 0\n",
    "while i == True:\n",
    "    ret, image = cap.read()\n",
    "    face = model.detectMultiScale(image)\n",
    "    key = cv2.waitKey(10)\n",
    "    \n",
    "    if len(face) != 0:\n",
    "        x = face[0][0]\n",
    "        y = face[0][1]\n",
    "        x1 = x + face[0][2]\n",
    "        y1 = y + face[0][3]\n",
    "        gray_image = cv2.cvtColor(image, cv2.COLOR_BGR2GRAY)\n",
    "        captured_face = cv2.rectangle( image, [x,y], [x1,y1], [0,0,255], 5 )\n",
    "        cv2.imshow(\"video\", gray_image)\n",
    "    else:\n",
    "        pass\n",
    "        \n",
    "    if key == 13 or i > 100:\n",
    "        cv2.destroyAllWindows() \n",
    "        cap.release()\n",
    "        break\n",
    "\n",
    "\n",
    "# SENDING MAIL \n",
    "server = smtplib.SMTP(\"smtp.gmail.com\", 587)\n",
    "server.starttls()\n",
    "server.login(e_mail, passwd)\n",
    "server.sendmail(e_mail, f_e_mail, \"Someone tring access your E-mail ..!\")\n",
    "server.quit()\n",
    "\n",
    "\n",
    "# SENDING WHATTSAPP MESSAGE\n",
    "sendwhatmsg(num, \"Issue has been solved ...\", 10, 46)"
   ]
  },
  {
   "cell_type": "markdown",
   "id": "40d86b5e",
   "metadata": {},
   "source": [
    "Launching OS "
   ]
  },
  {
   "cell_type": "code",
   "execution_count": 8,
   "id": "8e5428ea",
   "metadata": {},
   "outputs": [
    {
     "data": {
      "text/plain": [
       "(0,\n",
       " '{\\n    \"Groups\": [],\\n    \"Instances\": [\\n        {\\n            \"AmiLaunchIndex\": 0,\\n            \"ImageId\": \"ami-0ad704c126371a549\",\\n            \"InstanceId\": \"i-08bda6193d87422e7\",\\n            \"InstanceType\": \"t2.micro\",\\n            \"KeyName\": \"Tamim_Key\",\\n            \"LaunchTime\": \"2021-06-25T05:22:10+00:00\",\\n            \"Monitoring\": {\\n                \"State\": \"disabled\"\\n            },\\n            \"Placement\": {\\n                \"AvailabilityZone\": \"ap-south-1a\",\\n                \"GroupName\": \"\",\\n                \"Tenancy\": \"default\"\\n            },\\n            \"PrivateDnsName\": \"ip-172-31-44-231.ap-south-1.compute.internal\",\\n            \"PrivateIpAddress\": \"172.31.44.231\",\\n            \"ProductCodes\": [],\\n            \"PublicDnsName\": \"\",\\n            \"State\": {\\n                \"Code\": 0,\\n                \"Name\": \"pending\"\\n            },\\n            \"StateTransitionReason\": \"\",\\n            \"SubnetId\": \"subnet-66cbc00e\",\\n            \"VpcId\": \"vpc-7f10f214\",\\n            \"Architecture\": \"x86_64\",\\n            \"BlockDeviceMappings\": [],\\n            \"ClientToken\": \"8a7e0430-eab6-4304-a779-25f51b91e111\",\\n            \"EbsOptimized\": false,\\n            \"EnaSupport\": true,\\n            \"Hypervisor\": \"xen\",\\n            \"NetworkInterfaces\": [\\n                {\\n                    \"Attachment\": {\\n                        \"AttachTime\": \"2021-06-25T05:22:10+00:00\",\\n                        \"AttachmentId\": \"eni-attach-0ee14efc3cdee21ea\",\\n                        \"DeleteOnTermination\": true,\\n                        \"DeviceIndex\": 0,\\n                        \"Status\": \"attaching\",\\n                        \"NetworkCardIndex\": 0\\n                    },\\n                    \"Description\": \"\",\\n                    \"Groups\": [\\n                        {\\n                            \"GroupName\": \"Tamim_SG\",\\n                            \"GroupId\": \"sg-0235366b2ef02844f\"\\n                        }\\n                    ],\\n                    \"Ipv6Addresses\": [],\\n                    \"MacAddress\": \"02:30:7e:75:69:30\",\\n                    \"NetworkInterfaceId\": \"eni-077aacb6726c53001\",\\n                    \"OwnerId\": \"922348055093\",\\n                    \"PrivateDnsName\": \"ip-172-31-44-231.ap-south-1.compute.internal\",\\n                    \"PrivateIpAddress\": \"172.31.44.231\",\\n                    \"PrivateIpAddresses\": [\\n                        {\\n                            \"Primary\": true,\\n                            \"PrivateDnsName\": \"ip-172-31-44-231.ap-south-1.compute.internal\",\\n                            \"PrivateIpAddress\": \"172.31.44.231\"\\n                        }\\n                    ],\\n                    \"SourceDestCheck\": true,\\n                    \"Status\": \"in-use\",\\n                    \"SubnetId\": \"subnet-66cbc00e\",\\n                    \"VpcId\": \"vpc-7f10f214\",\\n                    \"InterfaceType\": \"interface\"\\n                }\\n            ],\\n            \"RootDeviceName\": \"/dev/xvda\",\\n            \"RootDeviceType\": \"ebs\",\\n            \"SecurityGroups\": [\\n                {\\n                    \"GroupName\": \"Tamim_SG\",\\n                    \"GroupId\": \"sg-0235366b2ef02844f\"\\n                }\\n            ],\\n            \"SourceDestCheck\": true,\\n            \"StateReason\": {\\n                \"Code\": \"pending\",\\n                \"Message\": \"pending\"\\n            },\\n            \"VirtualizationType\": \"hvm\",\\n            \"CpuOptions\": {\\n                \"CoreCount\": 1,\\n                \"ThreadsPerCore\": 1\\n            },\\n            \"CapacityReservationSpecification\": {\\n                \"CapacityReservationPreference\": \"open\"\\n            },\\n            \"MetadataOptions\": {\\n                \"State\": \"pending\",\\n                \"HttpTokens\": \"optional\",\\n                \"HttpPutResponseHopLimit\": 1,\\n                \"HttpEndpoint\": \"enabled\"\\n            },\\n            \"EnclaveOptions\": {\\n                \"Enabled\": false\\n            }\\n        }\\n    ],\\n    \"OwnerId\": \"922348055093\",\\n    \"ReservationId\": \"r-00a5ed1cacaf56c77\"\\n}')"
      ]
     },
     "execution_count": 8,
     "metadata": {},
     "output_type": "execute_result"
    }
   ],
   "source": [
    "cap = cv2.VideoCapture(0)\n",
    "model = cv2.CascadeClassifier(\"haarcascade_frontalface_default.xml\")\n",
    "#send_email_message()\n",
    "i = 0\n",
    "while i == True:\n",
    "    ret, image = cap.read()\n",
    "    face = model.detectMultiScale(image)\n",
    "    key = cv2.waitKey(10)\n",
    "    \n",
    "    if len(face) != 0:\n",
    "        x = face[0][0]\n",
    "        y = face[0][1]\n",
    "        x1 = x + face[0][2]\n",
    "        y1 = y + face[0][3]\n",
    "        gray_image = cv2.cvtColor(image, cv2.COLOR_BGR2GRAY)\n",
    "        captured_face = cv2.rectangle( image, [x,y], [x1,y1], [0,0,255], 5 )\n",
    "        cv2.imshow(\"video\", gray_image)\n",
    "    else:\n",
    "        pass\n",
    "        \n",
    "    if key == 13 or i > 100:\n",
    "        cv2.destroyAllWindows() \n",
    "        cap.release()\n",
    "        break\n",
    "        \n",
    "getstatusoutput(\"aws ec2 run-instances --image-id  ami-0ad704c126371a549 --instance-type t2.micro --count 1 --subnet-id subnet-66cbc00e --security-group-ids sg-0235366b2ef02844f --key-name Tamim_Key\")"
   ]
  }
 ],
 "metadata": {
  "kernelspec": {
   "display_name": "Python 3",
   "language": "python",
   "name": "python3"
  },
  "language_info": {
   "codemirror_mode": {
    "name": "ipython",
    "version": 3
   },
   "file_extension": ".py",
   "mimetype": "text/x-python",
   "name": "python",
   "nbconvert_exporter": "python",
   "pygments_lexer": "ipython3",
   "version": "3.8.8"
  }
 },
 "nbformat": 4,
 "nbformat_minor": 5
}
